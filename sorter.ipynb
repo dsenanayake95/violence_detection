{
 "cells": [
  {
   "cell_type": "code",
   "execution_count": 1,
   "id": "c035e450",
   "metadata": {},
   "outputs": [],
   "source": [
    "import os\n",
    "import matplotlib.pyplot as plt\n",
    "import shutil"
   ]
  },
  {
   "cell_type": "code",
   "execution_count": null,
   "id": "6e5ece90",
   "metadata": {},
   "outputs": [],
   "source": [
    "def img_sorter():\n",
    "    files = os.listdir('cropped_dataset')\n",
    "    for file in files:\n",
    "#         clear output()\n",
    "        print(\"violence (v) or no_violence (n)\")\n",
    "        \n",
    "        location = f\"cropped_dataset/{file}\"\n",
    "        im = plt.imread(location)\n",
    "        plt.imshow(im)\n",
    "        plt.axis('off')\n",
    "        plt.show()\n",
    "        \n",
    "        choice = input(\"[v] violence,[n] non_violence, [] continue, [q] quit\")\n",
    "        if choice == 'v':\n",
    "            shutil.copy(location, f\"V/{file}\")\n",
    "        if choice == 'n':\n",
    "            shutil.copy(location, f\"N_V/{file}\")\n",
    "        elif choice == 'q':\n",
    "            return \"all done\"\n",
    "                       "
   ]
  },
  {
   "cell_type": "code",
   "execution_count": null,
   "id": "7338faa3",
   "metadata": {},
   "outputs": [],
   "source": [
    "img_sorter()"
   ]
  },
  {
   "cell_type": "code",
   "execution_count": null,
   "id": "08f00472",
   "metadata": {},
   "outputs": [],
   "source": []
  },
  {
   "cell_type": "code",
   "execution_count": null,
   "id": "7dd93ed9",
   "metadata": {},
   "outputs": [],
   "source": []
  },
  {
   "cell_type": "code",
   "execution_count": null,
   "id": "f1870794",
   "metadata": {},
   "outputs": [],
   "source": []
  },
  {
   "cell_type": "code",
   "execution_count": null,
   "id": "ffde17f6",
   "metadata": {},
   "outputs": [],
   "source": []
  },
  {
   "cell_type": "code",
   "execution_count": null,
   "id": "4cfdeee0",
   "metadata": {},
   "outputs": [],
   "source": []
  },
  {
   "cell_type": "code",
   "execution_count": null,
   "id": "7376921f",
   "metadata": {},
   "outputs": [],
   "source": []
  }
 ],
 "metadata": {
  "kernelspec": {
   "display_name": "Python 3 (ipykernel)",
   "language": "python",
   "name": "python3"
  },
  "language_info": {
   "codemirror_mode": {
    "name": "ipython",
    "version": 3
   },
   "file_extension": ".py",
   "mimetype": "text/x-python",
   "name": "python",
   "nbconvert_exporter": "python",
   "pygments_lexer": "ipython3",
   "version": "3.8.6"
  },
  "toc": {
   "base_numbering": 1,
   "nav_menu": {},
   "number_sections": true,
   "sideBar": true,
   "skip_h1_title": false,
   "title_cell": "Table of Contents",
   "title_sidebar": "Contents",
   "toc_cell": false,
   "toc_position": {},
   "toc_section_display": true,
   "toc_window_display": false
  }
 },
 "nbformat": 4,
 "nbformat_minor": 5
}
