{
 "cells": [
  {
   "cell_type": "code",
   "execution_count": 1,
   "id": "c11d0630",
   "metadata": {},
   "outputs": [],
   "source": [
    "import os\n",
    "import matplotlib.pyplot as plt\n",
    "import shutil"
   ]
  },
  {
   "cell_type": "code",
   "execution_count": 6,
   "id": "920b7208",
   "metadata": {},
   "outputs": [],
   "source": [
    "def img_sorter():\n",
    "    files = os.listdir('raw_data/cropped_dataset')\n",
    "    for file in files:\n",
    "#         clear output()\n",
    "        if file[-3:]=='jpg':\n",
    "            print(\"violence (v) or no_violence (n)\")\n",
    "            location = f\"cropped_dataset/{file}\"\n",
    "            im = plt.imread(location)\n",
    "            plt.imshow(im)\n",
    "            plt.axis('off')\n",
    "            plt.show()\n",
    "            choice = input(\"[v] violence,[n] non_violence, [] continue, [q] quit\")\n",
    "            if choice == 'v':\n",
    "                shutil.copy(location, f\"V/{file}\")\n",
    "            if choice == 'n':\n",
    "                shutil.copy(location, f\"N_V/{file}\")\n",
    "            elif choice == 'q':\n",
    "                return 'all done'\n",
    "        else:\n",
    "            pass"
   ]
  },
  {
   "cell_type": "code",
   "execution_count": 10,
   "id": "0a898c33",
   "metadata": {},
   "outputs": [
    {
     "name": "stdout",
     "output_type": "stream",
     "text": [
      "/Users/tu/code/dsenanayake95/violence_detection\n"
     ]
    }
   ],
   "source": [
    "cd .."
   ]
  },
  {
   "cell_type": "code",
   "execution_count": 11,
   "id": "0189bc59",
   "metadata": {
    "scrolled": true
   },
   "outputs": [
    {
     "name": "stdout",
     "output_type": "stream",
     "text": [
      "MANIFEST.in               haarcascade_fullbody.xml  \u001b[1m\u001b[36mscripts\u001b[m\u001b[m/\r\n",
      "Makefile                  \u001b[1m\u001b[36mnotebooks\u001b[m\u001b[m/                setup.py\r\n",
      "README.md                 \u001b[1m\u001b[36mraw_data\u001b[m\u001b[m/                 \u001b[1m\u001b[36mtests\u001b[m\u001b[m/\r\n",
      "\u001b[1m\u001b[36mcoco_mobilenet\u001b[m\u001b[m/           requirements.txt          \u001b[1m\u001b[36mviolence_detection\u001b[m\u001b[m/\r\n"
     ]
    }
   ],
   "source": [
    "ls"
   ]
  },
  {
   "cell_type": "code",
   "execution_count": 15,
   "id": "f13c3291",
   "metadata": {},
   "outputs": [
    {
     "data": {
      "text/plain": [
       "'/Users/tu/code/dsenanayake95/violence_detection'"
      ]
     },
     "execution_count": 15,
     "metadata": {},
     "output_type": "execute_result"
    }
   ],
   "source": [
    "pwd"
   ]
  },
  {
   "cell_type": "code",
   "execution_count": 17,
   "id": "875ab548",
   "metadata": {},
   "outputs": [
    {
     "data": {
      "text/plain": [
       "['videos_dataset',\n",
       " '.DS_Store',\n",
       " 'frames_dataset',\n",
       " 'cropped_dataset_original',\n",
       " 'cropped_dataset_NonViolence']"
      ]
     },
     "execution_count": 17,
     "metadata": {},
     "output_type": "execute_result"
    }
   ],
   "source": [
    "os.listdir('raw_data')"
   ]
  },
  {
   "cell_type": "code",
   "execution_count": 16,
   "id": "8ed7849b",
   "metadata": {},
   "outputs": [
    {
     "ename": "FileNotFoundError",
     "evalue": "[Errno 2] No such file or directory: 'raw_data/cropped_dataset/'",
     "output_type": "error",
     "traceback": [
      "\u001b[0;31m---------------------------------------------------------------------------\u001b[0m",
      "\u001b[0;31mFileNotFoundError\u001b[0m                         Traceback (most recent call last)",
      "\u001b[0;32m/var/folders/hs/zl49sv3j25dccdmpv6y5c7sm0000gn/T/ipykernel_67908/3077280907.py\u001b[0m in \u001b[0;36m<module>\u001b[0;34m\u001b[0m\n\u001b[0;32m----> 1\u001b[0;31m \u001b[0mfiles\u001b[0m \u001b[0;34m=\u001b[0m \u001b[0mos\u001b[0m\u001b[0;34m.\u001b[0m\u001b[0mlistdir\u001b[0m\u001b[0;34m(\u001b[0m\u001b[0;34m'raw_data/cropped_dataset/'\u001b[0m\u001b[0;34m)\u001b[0m\u001b[0;34m\u001b[0m\u001b[0;34m\u001b[0m\u001b[0m\n\u001b[0m\u001b[1;32m      2\u001b[0m \u001b[0mlen\u001b[0m\u001b[0;34m(\u001b[0m\u001b[0mfiles\u001b[0m\u001b[0;34m)\u001b[0m\u001b[0;34m\u001b[0m\u001b[0;34m\u001b[0m\u001b[0m\n",
      "\u001b[0;31mFileNotFoundError\u001b[0m: [Errno 2] No such file or directory: 'raw_data/cropped_dataset/'"
     ]
    }
   ],
   "source": [
    "files = os.listdir('raw_data/cropped_dataset/')\n",
    "len(files)"
   ]
  },
  {
   "cell_type": "code",
   "execution_count": null,
   "id": "2fe26d7d",
   "metadata": {},
   "outputs": [],
   "source": [
    "img_sorter()"
   ]
  }
 ],
 "metadata": {
  "kernelspec": {
   "display_name": "violence_detection",
   "language": "python",
   "name": "violence_detection"
  },
  "language_info": {
   "codemirror_mode": {
    "name": "ipython",
    "version": 3
   },
   "file_extension": ".py",
   "mimetype": "text/x-python",
   "name": "python",
   "nbconvert_exporter": "python",
   "pygments_lexer": "ipython3",
   "version": "3.8.6"
  },
  "toc": {
   "base_numbering": 1,
   "nav_menu": {},
   "number_sections": true,
   "sideBar": true,
   "skip_h1_title": false,
   "title_cell": "Table of Contents",
   "title_sidebar": "Contents",
   "toc_cell": false,
   "toc_position": {},
   "toc_section_display": true,
   "toc_window_display": false
  }
 },
 "nbformat": 4,
 "nbformat_minor": 5
}
