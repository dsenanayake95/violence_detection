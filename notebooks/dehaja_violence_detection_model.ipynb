{
 "cells": [
  {
   "cell_type": "code",
   "execution_count": 2,
   "id": "7b924e03",
   "metadata": {},
   "outputs": [],
   "source": [
    "# import requirements\n",
    "import numpy as np\n",
    "import random\n",
    "import os\n",
    "import shutil\n",
    "from sklearn.model_selection import train_test_split\n",
    "import matplotlib.pyplot as plt\n",
    "%matplotlib inline"
   ]
  },
  {
   "cell_type": "code",
   "execution_count": 4,
   "id": "16d5ad9a",
   "metadata": {},
   "outputs": [],
   "source": [
    "# tensorflow imports \n",
    "from tensorflow.keras import models\n",
    "from tensorflow.keras import Sequential, layers\n",
    "from tensorflow.keras.preprocessing.image import ImageDataGenerator\n",
    "from tensorflow.keras.applications.vgg19 import VGG19\n",
    "from tensorflow.keras import optimizers\n",
    "from tensorflow.keras.utils import to_categorical\n",
    "from tensorflow.keras.callbacks import EarlyStopping"
   ]
  },
  {
   "cell_type": "markdown",
   "id": "a234addf",
   "metadata": {},
   "source": [
    "# Train_test_split"
   ]
  },
  {
   "cell_type": "code",
   "execution_count": 5,
   "id": "8828def6",
   "metadata": {},
   "outputs": [
    {
     "name": "stdout",
     "output_type": "stream",
     "text": [
      "Total images:  5832\n",
      "Training:  4665\n",
      "Validation:  875\n",
      "Testing:  292\n",
      "Total images:  5231\n",
      "Training:  4184\n",
      "Validation:  785\n",
      "Testing:  262\n"
     ]
    }
   ],
   "source": [
    "# # Creating Train / Val / Test folders\n",
    "\n",
    "root_dir = '../raw_data/frames' # data root path\n",
    "classes_dir = ['violence', 'non_violence'] #total labels\n",
    "\n",
    "val_ratio = 0.15\n",
    "test_ratio = 0.05\n",
    "\n",
    "for cls in classes_dir:\n",
    "    os.makedirs(root_dir +'train/' + cls)\n",
    "    os.makedirs(root_dir +'val/' + cls)\n",
    "    os.makedirs(root_dir +'test/' + cls)\n",
    "\n",
    "\n",
    "# Creating partitions of the data after shuffling\n",
    "\n",
    "\n",
    "    src = root_dir + \"/\" + cls # Folder to copy images from\n",
    "\n",
    "    allFileNames = os.listdir(src)\n",
    "    np.random.shuffle(allFileNames)\n",
    "    train_FileNames, val_FileNames, test_FileNames = np.split(np.array(allFileNames),\n",
    "                                                          [int(len(allFileNames)* (1 - (val_ratio + test_ratio))), \n",
    "                                                           int(len(allFileNames)* (1 - test_ratio))])\n",
    "\n",
    "\n",
    "    train_FileNames = [src+'/'+ name for name in train_FileNames.tolist()]\n",
    "    val_FileNames = [src+'/' + name for name in val_FileNames.tolist()]\n",
    "    test_FileNames = [src+'/' + name for name in test_FileNames.tolist()]\n",
    "\n",
    "    print('Total images: ', len(allFileNames))\n",
    "    print('Training: ', len(train_FileNames))\n",
    "    print('Validation: ', len(val_FileNames))\n",
    "    print('Testing: ', len(test_FileNames))\n",
    "\n",
    "    # Copy-pasting images\n",
    "    for name in train_FileNames:\n",
    "        shutil.copy(name, root_dir +'train/' + cls)\n",
    "\n",
    "    for name in val_FileNames:\n",
    "        shutil.copy(name, root_dir +'val/' + cls)\n",
    "\n",
    "    for name in test_FileNames:\n",
    "        shutil.copy(name, root_dir +'test/' + cls)"
   ]
  },
  {
   "cell_type": "markdown",
   "id": "cace7a34",
   "metadata": {},
   "source": [
    "# Load Data with Augmentation"
   ]
  },
  {
   "cell_type": "code",
   "execution_count": 6,
   "id": "99a81cbd",
   "metadata": {},
   "outputs": [
    {
     "name": "stdout",
     "output_type": "stream",
     "text": [
      "Found 8849 images belonging to 2 classes.\n",
      "Found 1660 images belonging to 2 classes.\n"
     ]
    }
   ],
   "source": [
    "# import data\n",
    "root = r'../raw_data/'\n",
    "\n",
    "train_dir = root + \"framestrain/\"\n",
    "\n",
    "train_datagen = ImageDataGenerator(rescale=1.0/255., \n",
    "                                      rotation_range=40,\n",
    "                                      width_shift_range=0.2,\n",
    "                                      height_shift_range=0.2,\n",
    "                                      shear_range=0.2,\n",
    "                                      zoom_range=0.2,\n",
    "                                      horizontal_flip=True,\n",
    "                                      fill_mode='nearest'\n",
    "                                    )\n",
    "\n",
    "train_generator = train_datagen.flow_from_directory(train_dir,\n",
    "                                                    batch_size=16,\n",
    "                                                    classes=['violence', \n",
    "                                                             'non_violence' \n",
    "                                                             ],\n",
    "                                                    class_mode=\"categorical\",\n",
    "                                                    color_mode=\"rgb\",\n",
    "                                                    target_size=(224, 224))\n",
    "\n",
    "val_dir = root + \"framesval/\"\n",
    "validation_datagen = ImageDataGenerator(rescale=1.0/255.)\n",
    "\n",
    "validation_generator = validation_datagen.flow_from_directory(val_dir,\n",
    "                                                              batch_size=16,\n",
    "                                                                classes=['violence', \n",
    "                                                                         'non_violence'\n",
    "                                                                        ],\n",
    "                                                              class_mode=\"categorical\",\n",
    "                                                              color_mode=\"rgb\",\n",
    "                                                              target_size=(224, 224)\n",
    "                                                             \n",
    "                                                             )\n"
   ]
  },
  {
   "cell_type": "markdown",
   "id": "609fff09",
   "metadata": {},
   "source": [
    "# Transfer-learning"
   ]
  },
  {
   "cell_type": "code",
   "execution_count": 7,
   "id": "194193d6",
   "metadata": {},
   "outputs": [],
   "source": [
    "import tensorflow\n",
    "from tensorflow.keras.applications.vgg19 import VGG19\n",
    "\n",
    "def load_vgg19(dense_n=512, lr= 0.000134,):\n",
    "    model = tensorflow.keras.applications.VGG19(\n",
    "                                            include_top=False, weights=\"imagenet\",\n",
    "                                            input_shape=(224, 224, 3), pooling=\"max\", classes=2,\n",
    "    )\n",
    "    model.trainable = False \n",
    "    model = tensorflow.keras.models.Sequential([ \n",
    "                            model,\n",
    "                            tensorflow.keras.layers.Flatten(),\n",
    "                            tensorflow.keras.layers.Dense(dense_n, activation='relu'),\n",
    "                            tensorflow.keras.layers.Dense(1, activation='sigmoid')\n",
    "                                ])\n",
    "    \n",
    "    opt = optimizers.Adam(learning_rate=lr)\n",
    "    model.compile(loss='binary_crossentropy',\n",
    "                  optimizer=opt,\n",
    "                  metrics=['accuracy'])\n",
    "    return model"
   ]
  },
  {
   "cell_type": "code",
   "execution_count": 8,
   "id": "80c067c8",
   "metadata": {},
   "outputs": [
    {
     "name": "stderr",
     "output_type": "stream",
     "text": [
      "2021-08-21 15:21:25.943305: I tensorflow/core/platform/cpu_feature_guard.cc:142] This TensorFlow binary is optimized with oneAPI Deep Neural Network Library (oneDNN) to use the following CPU instructions in performance-critical operations:  AVX2 FMA\n",
      "To enable them in other operations, rebuild TensorFlow with the appropriate compiler flags.\n"
     ]
    }
   ],
   "source": [
    "model = load_vgg19()"
   ]
  },
  {
   "cell_type": "code",
   "execution_count": 9,
   "id": "bff667fe",
   "metadata": {},
   "outputs": [
    {
     "name": "stdout",
     "output_type": "stream",
     "text": [
      "Model: \"sequential\"\n",
      "_________________________________________________________________\n",
      "Layer (type)                 Output Shape              Param #   \n",
      "=================================================================\n",
      "vgg19 (Functional)           (None, 512)               20024384  \n",
      "_________________________________________________________________\n",
      "flatten (Flatten)            (None, 512)               0         \n",
      "_________________________________________________________________\n",
      "dense (Dense)                (None, 512)               262656    \n",
      "_________________________________________________________________\n",
      "dense_1 (Dense)              (None, 1)                 513       \n",
      "=================================================================\n",
      "Total params: 20,287,553\n",
      "Trainable params: 263,169\n",
      "Non-trainable params: 20,024,384\n",
      "_________________________________________________________________\n"
     ]
    }
   ],
   "source": [
    "model.summary()"
   ]
  },
  {
   "cell_type": "code",
   "execution_count": null,
   "id": "be98e895",
   "metadata": {},
   "outputs": [],
   "source": [
    "es = EarlyStopping(monitor='val_accuracy', mode='max', patience=20, verbose=1, restore_best_weights=True)\n",
    "\n",
    "model.fit(train_generator,\n",
    "                    validation_data=validation_generator,\n",
    "                    epochs= 5,\n",
    "                    verbose=1,\n",
    "                    callbacks = es)"
   ]
  }
 ],
 "metadata": {
  "kernelspec": {
   "display_name": "violence_detection",
   "language": "python",
   "name": "violence_detection"
  },
  "language_info": {
   "codemirror_mode": {
    "name": "ipython",
    "version": 3
   },
   "file_extension": ".py",
   "mimetype": "text/x-python",
   "name": "python",
   "nbconvert_exporter": "python",
   "pygments_lexer": "ipython3",
   "version": "3.8.6"
  },
  "toc": {
   "base_numbering": 1,
   "nav_menu": {},
   "number_sections": true,
   "sideBar": true,
   "skip_h1_title": false,
   "title_cell": "Table of Contents",
   "title_sidebar": "Contents",
   "toc_cell": false,
   "toc_position": {},
   "toc_section_display": true,
   "toc_window_display": false
  }
 },
 "nbformat": 4,
 "nbformat_minor": 5
}
