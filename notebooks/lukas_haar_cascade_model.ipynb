{
 "cells": [
  {
   "cell_type": "code",
   "execution_count": 1,
   "id": "4fabaa42",
   "metadata": {},
   "outputs": [],
   "source": [
    "import cv2\n",
    "import numpy as np\n",
    "import matplotlib.pyplot as plt"
   ]
  },
  {
   "cell_type": "code",
   "execution_count": null,
   "id": "c62ca016",
   "metadata": {},
   "outputs": [],
   "source": [
    "!ls .."
   ]
  },
  {
   "cell_type": "code",
   "execution_count": null,
   "id": "1bbc6c29",
   "metadata": {},
   "outputs": [],
   "source": [
    "# create body classifier\n",
    "\n",
    "body_classifier = cv2.CascadeClassifier('../haarcascade_fullbody.xml')"
   ]
  },
  {
   "cell_type": "code",
   "execution_count": null,
   "id": "c8ca6462",
   "metadata": {},
   "outputs": [],
   "source": [
    "# get image using cv2 \n",
    "img_file_path = '../raw_data/videos_dataset/Real Life Violence Dataset/NonViolence/NV_1.mp4'\n",
    "\n",
    "img = cv2.imread(img_file_path, cv2.IMREAD_UNCHANGED)\n",
    "\n",
    "# convert to gray scale\n",
    "gray = cv2.cvtColor(img, cv2.COLOR_BGR2GRAY)"
   ]
  },
  {
   "cell_type": "code",
   "execution_count": null,
   "id": "3ee4fe5e",
   "metadata": {},
   "outputs": [],
   "source": [
    "plt.imshow(img, cmap='gray')"
   ]
  },
  {
   "cell_type": "code",
   "execution_count": null,
   "id": "a5514138",
   "metadata": {},
   "outputs": [],
   "source": [
    "plt.imshow(gray, cmap='gray')"
   ]
  },
  {
   "cell_type": "code",
   "execution_count": null,
   "id": "40be9d6a",
   "metadata": {},
   "outputs": [],
   "source": [
    "body_classifier.detectMultiScale"
   ]
  },
  {
   "cell_type": "code",
   "execution_count": null,
   "id": "c9df1c7e",
   "metadata": {},
   "outputs": [],
   "source": [
    "# Pass frame to our body classifier\n",
    "bodies = body_classifier.detectMultiScale(gray, 1.1, 2)\n",
    "\n",
    "# Extract bounding boxes for any bodies identified\n",
    "for (x,y,w,h) in bodies:\n",
    "    cv2.rectangle(img, (x, y), (x+w, y+h), (0, 255, 255), 2)\n",
    "    cv2.imshow('people', img)\n",
    "    if cv2.waitKey(20) & 0xFF==ord('d'):\n",
    "               break\n",
    "    \n",
    "cv2.destroyAllWindows()"
   ]
  },
  {
   "cell_type": "code",
   "execution_count": null,
   "id": "673dbd35",
   "metadata": {},
   "outputs": [],
   "source": [
    "###########################\n",
    "#     from webcam         #\n",
    "##########################\n",
    "cap = cv2.VideoCapture('../raw_data/videos_dataset/Real Life Violence Dataset/NonViolence/NV_961.mp4')\n",
    "while cap.isOpened():  \n",
    "    ret, frame = cap.read()\n",
    "    gray = cv2.cvtColor(frame, cv2.COLOR_BGR2GRAY)\n",
    "    bodies = body_classifier.detectMultiScale(gray, 1.1, minNeighbors=2)\n",
    "    for (x,y,w,h) in bodies:\n",
    "        cv2.rectangle(frame, (x, y), (x+w, y+h), (0, 255, 255), 2)\n",
    "    cv2.imshow('Pedestrians', frame)\n",
    "    if cv2.waitKey(20) & 0xFF==ord('d'):\n",
    "               break\n",
    "cap.release()\n",
    "cv2.destroyAllWindows()"
   ]
  },
  {
   "cell_type": "code",
   "execution_count": null,
   "id": "78182024",
   "metadata": {},
   "outputs": [],
   "source": []
  }
 ],
 "metadata": {
  "kernelspec": {
   "display_name": "violence_detection",
   "language": "python",
   "name": "violence_detection"
  },
  "language_info": {
   "codemirror_mode": {
    "name": "ipython",
    "version": 3
   },
   "file_extension": ".py",
   "mimetype": "text/x-python",
   "name": "python",
   "nbconvert_exporter": "python",
   "pygments_lexer": "ipython3",
   "version": "3.8.6"
  },
  "toc": {
   "base_numbering": 1,
   "nav_menu": {},
   "number_sections": true,
   "sideBar": true,
   "skip_h1_title": false,
   "title_cell": "Table of Contents",
   "title_sidebar": "Contents",
   "toc_cell": false,
   "toc_position": {},
   "toc_section_display": true,
   "toc_window_display": false
  }
 },
 "nbformat": 4,
 "nbformat_minor": 5
}
